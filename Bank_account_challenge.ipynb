{
 "cells": [
  {
   "cell_type": "markdown",
   "metadata": {},
   "source": [
    "# Object Oriented Programming Challenge\n",
    "\n",
    "\n",
    "Problem: Create a bank account class that has two attributes:\n",
    "\n",
    "owner\n",
    "balance\n",
    "\n",
    "and two methods:\n",
    "\n",
    "deposit\n",
    "withdraw\n",
    "\n",
    "withdrawals may not exceed the available balance.\n",
    "Note: You should be able to print the object using special methods\n"
   ]
  },
  {
   "cell_type": "code",
   "execution_count": 34,
   "metadata": {},
   "outputs": [],
   "source": [
    "class Account():\n",
    "    \n",
    "    def __init__(self,owner,balance):\n",
    "        self.owner = owner\n",
    "        self.balance = balance\n",
    "        \n",
    "    def deposit(self, amount):\n",
    "        self.balance = self.balance + amount\n",
    "        print(\" amount {} has been credited to your account\".format(amount))\n",
    "        \n",
    "    def withdraw(self,withdraw_amount):\n",
    "        if withdraw_amount < self.balance:\n",
    "            self.balance = self.balance - withdraw_amount\n",
    "            print(\" amount {} has been deducted from your account \".format(withdraw_amount))\n",
    "            print(\" Available balance in your account : {}\".format(self.balance))\n",
    "        else:\n",
    "            print(\"Funds are unavailable, the amount entered exceeds the current balance\")\n",
    "    \n",
    "    def __str__(self):\n",
    "        return 'Account owner : ' + self.owner + ' Account Balance : $' + str(self.balance)\n",
    "        \n",
    "        \n",
    "        \n",
    "        "
   ]
  },
  {
   "cell_type": "code",
   "execution_count": 35,
   "metadata": {},
   "outputs": [],
   "source": [
    "# instantiate the object\n",
    "\n",
    "acc1 = Account('Sammy',600)"
   ]
  },
  {
   "cell_type": "code",
   "execution_count": 36,
   "metadata": {},
   "outputs": [
    {
     "name": "stdout",
     "output_type": "stream",
     "text": [
      "Account owner : Sammy Account Balance : $600\n"
     ]
    }
   ],
   "source": [
    "#print the object\n",
    "print(acc1)"
   ]
  },
  {
   "cell_type": "code",
   "execution_count": 37,
   "metadata": {},
   "outputs": [
    {
     "data": {
      "text/plain": [
       "'Sammy'"
      ]
     },
     "execution_count": 37,
     "metadata": {},
     "output_type": "execute_result"
    }
   ],
   "source": [
    "# account owner attribute\n",
    "acc1.owner"
   ]
  },
  {
   "cell_type": "code",
   "execution_count": 38,
   "metadata": {},
   "outputs": [
    {
     "data": {
      "text/plain": [
       "600"
      ]
     },
     "execution_count": 38,
     "metadata": {},
     "output_type": "execute_result"
    }
   ],
   "source": [
    "acc1.balance"
   ]
  },
  {
   "cell_type": "code",
   "execution_count": 39,
   "metadata": {},
   "outputs": [
    {
     "name": "stdout",
     "output_type": "stream",
     "text": [
      " amount 70 has been credited to your account\n"
     ]
    }
   ],
   "source": [
    "acc1.deposit(70)"
   ]
  },
  {
   "cell_type": "code",
   "execution_count": 40,
   "metadata": {},
   "outputs": [
    {
     "name": "stdout",
     "output_type": "stream",
     "text": [
      " amount 58 has been deducted from your account \n",
      " Available balance in your account : 612\n"
     ]
    }
   ],
   "source": [
    "acc1.withdraw(58)"
   ]
  },
  {
   "cell_type": "code",
   "execution_count": 41,
   "metadata": {},
   "outputs": [
    {
     "name": "stdout",
     "output_type": "stream",
     "text": [
      "Funds are unavailable, the amount entered exceeds the current balance\n"
     ]
    }
   ],
   "source": [
    "acc1.withdraw(700)"
   ]
  },
  {
   "cell_type": "code",
   "execution_count": null,
   "metadata": {},
   "outputs": [],
   "source": []
  }
 ],
 "metadata": {
  "kernelspec": {
   "display_name": "Python 3",
   "language": "python",
   "name": "python3"
  },
  "language_info": {
   "codemirror_mode": {
    "name": "ipython",
    "version": 3
   },
   "file_extension": ".py",
   "mimetype": "text/x-python",
   "name": "python",
   "nbconvert_exporter": "python",
   "pygments_lexer": "ipython3",
   "version": "3.7.0"
  }
 },
 "nbformat": 4,
 "nbformat_minor": 2
}
